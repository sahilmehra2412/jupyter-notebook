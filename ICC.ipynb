{
 "cells": [
  {
   "cell_type": "code",
   "execution_count": 81,
   "metadata": {},
   "outputs": [],
   "source": [
    "from bs4 import BeautifulSoup\n",
    "import requests\n",
    "import json\n",
    "\n",
    "url = \"http://stats.espncricinfo.com/ci/engine/records/batting/most_runs_career.html?id=12357;type=tournament\"\n",
    "html = requests.get(url)\n",
    "soup = BeautifulSoup(html.text)\n",
    "tr = soup.findAll('tr',{'class':'data1'})\n",
    "data_bat = []\n",
    "for i in tr:\n",
    "    td = i.findAll('td',{'nowrap':'nowrap'})\n",
    "    if str(td[6].get_text()) == '-':\n",
    "        av = float(td[4].get_text())/2\n",
    "    else:\n",
    "        av = float(td[6].get_text()) / 2\n",
    "    points = int(td[4].get_text()) + av + (float(td[8].get_text())/4) + int(int(td[9].get_text())*30) + int(int(td[10].get_text())*20) - int(int(td[11].get_text())*10) + int(int(td[12].get_text())*2)+int(int(td[13].get_text())*3)\n",
    "    dict = {'name':td[0].get_text(),'points':round(points,2)}\n",
    "    data_bat.append(dict)"
   ]
  },
  {
   "cell_type": "code",
   "execution_count": 84,
   "metadata": {},
   "outputs": [],
   "source": [
    "link = \"http://stats.espncricinfo.com/ci/engine/records/bowling/most_wickets_career.html?id=12357;type=tournament\"\n",
    "res = requests.get(link)\n",
    "ren = BeautifulSoup(res.text)\n",
    "tr1 = ren.findAll('tr',{'class':'data1'})\n",
    "data_bowl = []\n",
    "for i in tr1:\n",
    "    td = i.findAll('td',{'nowrap':'nowrap'})\n",
    "    if str(td[8].get_text()) == '-':\n",
    "        av_p = 0\n",
    "        sr_p = 0\n",
    "    else:\n",
    "        av_p = 50 - float(td[8].get_text())\n",
    "        sr_p = 50 - float(td[10].get_text())\n",
    "    points = int(td[4].get_text()) * 5 + int(td[6].get_text())*15 +(6.5-float(td[9].get_text()))*10 + int(td[11].get_text())*20 + int(td[12].get_text())*30+av_p+sr_p\n",
    "    dict = {'name':td[0].get_text(),'points':round(points,2)}\n",
    "    data_bowl.append(dict)"
   ]
  },
  {
   "cell_type": "code",
   "execution_count": 86,
   "metadata": {},
   "outputs": [],
   "source": [
    "bat = sorted(data_bat, key=lambda k: k['points'],reverse=True)\n",
    "bowl = sorted(data_bowl, key=lambda k: k['points'],reverse=True)"
   ]
  },
  {
   "cell_type": "code",
   "execution_count": 87,
   "metadata": {
    "scrolled": true
   },
   "outputs": [],
   "source": [
    "newlist = []\n",
    "for i in bat:\n",
    "    for j in bowl:\n",
    "        if i['name'] == j['name']:\n",
    "            dict = {'name':i['name'],'points':round((i['points']*3+j['points']*3)/6,2)}\n",
    "            newlist.append(dict)\n",
    "list = sorted(newlist,key=lambda k: k['points'], reverse=True)"
   ]
  }
 ],
 "metadata": {
  "kernelspec": {
   "display_name": "Python 3",
   "language": "python",
   "name": "python3"
  },
  "language_info": {
   "codemirror_mode": {
    "name": "ipython",
    "version": 3
   },
   "file_extension": ".py",
   "mimetype": "text/x-python",
   "name": "python",
   "nbconvert_exporter": "python",
   "pygments_lexer": "ipython3",
   "version": "3.6.5"
  }
 },
 "nbformat": 4,
 "nbformat_minor": 2
}
