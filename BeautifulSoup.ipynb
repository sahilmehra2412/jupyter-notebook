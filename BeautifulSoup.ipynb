{
 "cells": [
  {
   "cell_type": "code",
   "execution_count": 287,
   "metadata": {
    "scrolled": false
   },
   "outputs": [],
   "source": [
    "import requests\n",
    "from bs4 import BeautifulSoup\n",
    "import pandas as pd\n",
    "\n",
    "url = requests.get(\"https://en.wikipedia.org/wiki/ICC_ODI_Championship\")\n",
    "soup = BeautifulSoup(url.text)\n",
    "wiki_table = soup.find('table',{'class':'wikitable'})\n",
    "table_th = wiki_table.findAll('th')\n",
    "table_td = wiki_table.findAll('td')\n",
    "th = [x.text for x in table_th]\n",
    "td = [x.text for x in table_td]\n",
    "td.pop(-1)\n",
    "td.pop(-1)\n",
    "df = pd.DataFrame()\n",
    "df['Team'] = td[0::2][::2]\n",
    "df['Matches'] = [int(x) for x in td[1::2][::2]]\n",
    "df['Points'] = [int(i.replace(',','')) for i in td[2::2][::2]]\n",
    "df['Rating'] = [int(x) for x in td[3::2][::2]]"
   ]
  },
  {
   "cell_type": "code",
   "execution_count": 288,
   "metadata": {},
   "outputs": [],
   "source": [
    "url_wiki = requests.get(\"https://en.wikipedia.org/wiki/ICC_Test_Championship\")\n",
    "soup = BeautifulSoup(url_wiki.text)\n",
    "table = soup.find('table',{'class':'wikitable'})\n",
    "table_td = table.findAll('td')\n",
    "td = [x.text for x in table_td]\n",
    "for i in range(50,39,-1):\n",
    "    td.pop(i)\n",
    "data = pd.DataFrame()\n",
    "data['Team'] = [str(x) for x in td[0::2][::2]]\n",
    "data['Matches'] = [int(x) for x in td[1::2][::2]]\n",
    "data['Points'] = [int(i.replace(',','')) for i in td[2::2][::2]]\n",
    "data['Rating'] = [int(x) for x in td[3::2][::2]]"
   ]
  },
  {
   "cell_type": "code",
   "execution_count": 341,
   "metadata": {},
   "outputs": [],
   "source": [
    "url_t = requests.get(\"https://en.wikipedia.org/wiki/Template:ICC_T20I_Championship_rankings\")\n",
    "soup = BeautifulSoup(url_t.text)\n",
    "table_t = soup.find('table',{'class':'wikitable'})\n",
    "td_data = table_t.findAll('td')\n",
    "td = [x.text for x in td_data]\n",
    "td.pop(-1)\n",
    "td.pop(-1)\n",
    "dat = pd.DataFrame()\n",
    "dat['Team'] = [str(x) for x in td[0::2][::2]]\n",
    "dat['Matches'] = [int(x) for x in td[1::2][::2]]\n",
    "dat['Points'] = [int(i.replace(',','')) for i in td[2::2][::2]]\n",
    "dat['Rating'] = [int(x) for x in td[3::2][::2]]"
   ]
  },
  {
   "cell_type": "code",
   "execution_count": 348,
   "metadata": {},
   "outputs": [],
   "source": [
    "final = pd.merge(result,dat,on='Team')"
   ]
  },
  {
   "cell_type": "code",
   "execution_count": 375,
   "metadata": {},
   "outputs": [],
   "source": [
    "f_data = pd.DataFrame()\n",
    "f_data['Team'] = final['Team']\n",
    "f_data['Matches'] = final['Matches_x']+final['Matches_y']+final['Matches']\n",
    "f_data['Points'] = final['Points_x']+final['Points_y']+final['Points']\n",
    "f_data['Ratings'] = round(f_data['Points']/f_data['Matches'])\n",
    "f_data.set_index('Team',inplace=True)"
   ]
  },
  {
   "cell_type": "code",
   "execution_count": 376,
   "metadata": {},
   "outputs": [
    {
     "data": {
      "text/html": [
       "<div>\n",
       "<style scoped>\n",
       "    .dataframe tbody tr th:only-of-type {\n",
       "        vertical-align: middle;\n",
       "    }\n",
       "\n",
       "    .dataframe tbody tr th {\n",
       "        vertical-align: top;\n",
       "    }\n",
       "\n",
       "    .dataframe thead th {\n",
       "        text-align: right;\n",
       "    }\n",
       "</style>\n",
       "<table border=\"1\" class=\"dataframe\">\n",
       "  <thead>\n",
       "    <tr style=\"text-align: right;\">\n",
       "      <th></th>\n",
       "      <th>Matches</th>\n",
       "      <th>Points</th>\n",
       "      <th>Ratings</th>\n",
       "    </tr>\n",
       "    <tr>\n",
       "      <th>Team</th>\n",
       "      <th></th>\n",
       "      <th></th>\n",
       "      <th></th>\n",
       "    </tr>\n",
       "  </thead>\n",
       "  <tbody>\n",
       "    <tr>\n",
       "      <th>India</th>\n",
       "      <td>107</td>\n",
       "      <td>16573</td>\n",
       "      <td>155.0</td>\n",
       "    </tr>\n",
       "    <tr>\n",
       "      <th>New Zealand</th>\n",
       "      <td>72</td>\n",
       "      <td>10332</td>\n",
       "      <td>144.0</td>\n",
       "    </tr>\n",
       "    <tr>\n",
       "      <th>South Africa</th>\n",
       "      <td>82</td>\n",
       "      <td>11601</td>\n",
       "      <td>141.0</td>\n",
       "    </tr>\n",
       "    <tr>\n",
       "      <th>England</th>\n",
       "      <td>94</td>\n",
       "      <td>13288</td>\n",
       "      <td>141.0</td>\n",
       "    </tr>\n",
       "    <tr>\n",
       "      <th>Australia</th>\n",
       "      <td>88</td>\n",
       "      <td>12453</td>\n",
       "      <td>142.0</td>\n",
       "    </tr>\n",
       "    <tr>\n",
       "      <th>Sri Lanka</th>\n",
       "      <td>98</td>\n",
       "      <td>10821</td>\n",
       "      <td>110.0</td>\n",
       "    </tr>\n",
       "    <tr>\n",
       "      <th>Pakistan</th>\n",
       "      <td>94</td>\n",
       "      <td>13474</td>\n",
       "      <td>143.0</td>\n",
       "    </tr>\n",
       "    <tr>\n",
       "      <th>West Indies</th>\n",
       "      <td>89</td>\n",
       "      <td>10150</td>\n",
       "      <td>114.0</td>\n",
       "    </tr>\n",
       "    <tr>\n",
       "      <th>Bangladesh</th>\n",
       "      <td>76</td>\n",
       "      <td>8578</td>\n",
       "      <td>113.0</td>\n",
       "    </tr>\n",
       "    <tr>\n",
       "      <th>Zimbabwe</th>\n",
       "      <td>48</td>\n",
       "      <td>3479</td>\n",
       "      <td>72.0</td>\n",
       "    </tr>\n",
       "  </tbody>\n",
       "</table>\n",
       "</div>"
      ],
      "text/plain": [
       "               Matches  Points  Ratings\n",
       "Team                                   \n",
       " India             107   16573    155.0\n",
       " New Zealand        72   10332    144.0\n",
       " South Africa       82   11601    141.0\n",
       " England            94   13288    141.0\n",
       " Australia          88   12453    142.0\n",
       " Sri Lanka          98   10821    110.0\n",
       " Pakistan           94   13474    143.0\n",
       " West Indies        89   10150    114.0\n",
       " Bangladesh         76    8578    113.0\n",
       " Zimbabwe           48    3479     72.0"
      ]
     },
     "execution_count": 376,
     "metadata": {},
     "output_type": "execute_result"
    }
   ],
   "source": [
    "f_data"
   ]
  },
  {
   "cell_type": "code",
   "execution_count": null,
   "metadata": {},
   "outputs": [],
   "source": []
  }
 ],
 "metadata": {
  "kernelspec": {
   "display_name": "Python 3",
   "language": "python",
   "name": "python3"
  },
  "language_info": {
   "codemirror_mode": {
    "name": "ipython",
    "version": 3
   },
   "file_extension": ".py",
   "mimetype": "text/x-python",
   "name": "python",
   "nbconvert_exporter": "python",
   "pygments_lexer": "ipython3",
   "version": "3.6.5"
  }
 },
 "nbformat": 4,
 "nbformat_minor": 2
}
